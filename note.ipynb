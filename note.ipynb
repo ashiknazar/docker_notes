{
 "cells": [
  {
   "cell_type": "markdown",
   "metadata": {},
   "source": [
    " DockerFile _(build)_ -> DockerImage  _(run)_ ->DockerContainer"
   ]
  },
  {
   "cell_type": "markdown",
   "metadata": {},
   "source": [
    "Docker repositories store images"
   ]
  },
  {
   "cell_type": "markdown",
   "metadata": {},
   "source": [
    "- virtual machine occupies a lot of memory space. docker containers occcccupy less space.\n",
    "\n",
    "- long boot up time(vm) . short bootup time(docker)\n",
    "- running multiple virtual machines leads to unstable performance .docker is easy to scale up\n",
    "- low efficiency(vm),high effieciency (d)\n",
    "- compatibility issues while porting across different platforms. easly portable across different platforms\n",
    "- data volumes cannot be shared , data volume can be shared and reused among multiple containers "
   ]
  },
  {
   "cell_type": "markdown",
   "metadata": {},
   "source": [
    "- sudo docker run hello-world <br>\n",
    "unable to find image locally, pull\n",
    "- docker images\n",
    " "
   ]
  },
  {
   "cell_type": "markdown",
   "metadata": {},
   "source": [
    "![Cute cat](d_vs_vm.png)\n"
   ]
  },
  {
   "cell_type": "markdown",
   "metadata": {},
   "source": [
    "- runnig docker image forms a container\n",
    "- container have file system,environment flags\n",
    "- docker image is like a template\n"
   ]
  },
  {
   "cell_type": "markdown",
   "metadata": {},
   "source": [
    "- docker pull hello-world\n",
    "- docker images\n",
    "- docker ps <br>\n",
    "   shows running images\n",
    "- docker ps -a  <br>\n",
    "   shows runned images"
   ]
  },
  {
   "cell_type": "markdown",
   "metadata": {},
   "source": [
    "- to run and detach command prompt <br>\n",
    "    - docker run -d redis\n",
    "- docker stop <id>\n",
    "- docker start <id>\n",
    "\n"
   ]
  },
  {
   "cell_type": "markdown",
   "metadata": {},
   "source": [
    "![layers](layers_.png)\n",
    "![port binding](port_binding.png)"
   ]
  },
  {
   "cell_type": "markdown",
   "metadata": {},
   "source": [
    "#### port mapping\n",
    "- docker run -d -p5000:6379 redis\n",
    " <br> 5000:host port 6379 (redis listening port)\n",
    "- docker run -d -p5001:6379 redis:5.0"
   ]
  },
  {
   "cell_type": "markdown",
   "metadata": {},
   "source": [
    "### debugging containers\n",
    "\n",
    "- analyze log\n",
    "- after login into container execute command in prompts\n"
   ]
  },
  {
   "cell_type": "markdown",
   "metadata": {},
   "source": [
    "#### logs\n",
    "- docker logs <id>\n",
    "- docker logs _random_generated_name\n",
    "  - <b> to give a fixed name </b> <br>\n",
    "   docker run -d -p5001:6379 --name redis-latest redis\n",
    "   <br> if name is in history it wont work (docker ps -a)(history)....here redis-latest is the given name\n",
    "- docker logs redis-latest\n",
    "\n",
    "  "
   ]
  },
  {
   "cell_type": "markdown",
   "metadata": {},
   "source": [
    "##### login into containers to debug\n",
    "- docker exec -it (id) or (name) /bin/bash (shell path depends on image)    (it - interacitve terminal)\n",
    "- will move into container\n",
    "- \\# pwd\n",
    "- \\# ls\n",
    "- \\# env\n",
    "- ctrl+d or exit\n"
   ]
  },
  {
   "cell_type": "markdown",
   "metadata": {},
   "source": [
    "- docker run is where a container is created form image ,start /stop is to use existing containers\n"
   ]
  },
  {
   "cell_type": "markdown",
   "metadata": {},
   "source": [
    "##### containarizing an existing application\n",
    "- docker.com /getting started/02_our_app\n",
    "  - git clone a sample app\n",
    "  - git clone https://github.com/docker/getting-started.git\n",
    "  - cd app/\n",
    "  - touch Dockerfile\n",
    "  - paste content to Dockerfile(from docker web page) write and exit\n",
    "  - \n"
   ]
  },
  {
   "cell_type": "markdown",
   "metadata": {},
   "source": [
    "#### dockerfile\n",
    "- FROM node 12 alpine  -> base image\n",
    "- RUN prerequesites to run ,setup environment\n",
    "- WORKDIR /app\n",
    "- COPY ..  copy content from that path\n",
    "- RUN yarn  \n",
    "- cmd only one in docker file. after making container what to do\n",
    "- EXPOSE 3000 port\n",
    "\n"
   ]
  },
  {
   "cell_type": "markdown",
   "metadata": {},
   "source": [
    "- docker build -t getting-started . (to indicate same path .)\n",
    "- image will be build and stored in our local machine\n",
    "- docker run -dp 3000:3000 getting-started\n",
    "-  got to localhost:3000\n",
    "\n",
    "\n"
   ]
  },
  {
   "cell_type": "markdown",
   "metadata": {},
   "source": [
    "#### running multiple services\n",
    "- front end,back end need to run at same time ie, need multiple images/continers at same time\n"
   ]
  },
  {
   "cell_type": "markdown",
   "metadata": {},
   "source": [
    "![2_containers](2_containers.png)"
   ]
  },
  {
   "cell_type": "markdown",
   "metadata": {},
   "source": [
    "- both the containers must connected to same network.\n"
   ]
  },
  {
   "cell_type": "markdown",
   "metadata": {},
   "source": [
    "#### how to run containers\n",
    "- first up db container\n",
    " - if not present when runnig php app,it will show database error\n",
    " - docker run -dp 3306:3306 \\\n",
    " - --name =db\\\n",
    " - --network=app-network \\\n",
    " - -e MYSQL_ROOT_PASSWORD='Pass@123' \\          <br>\n",
    "  <i>-e flag is used to set environment variables in a Docker container.</i><br>\n",
    " - techtvm/mysql_techtvm \\       #image\n",
    " - mysql --default-authentication-plugin=mysql_native_password\n"
   ]
  },
  {
   "cell_type": "markdown",
   "metadata": {},
   "source": [
    "#### how to run containers\n",
    "- up crud app container\n",
    " \n",
    " - docker run -dp 8081:80 \\\n",
    " - --name =crud-app\\\n",
    " - --network=app-network \\\n",
    " - -e MYSQL_DBHOST='db:3306' \\\n",
    " - -e MYSQL_DBUSER='root' \\\n",
    " - -e MYSQL_DBPASS='Pass@123'\n",
    " - -e MYSQL_DBNAME=php_crud techtvm/php-crud-app"
   ]
  },
  {
   "cell_type": "markdown",
   "metadata": {},
   "source": [
    "___\n",
    "- docker stop \\<id\\>\n",
    "- docker container prune     #delete all non working containers ,thus we can use the same name\n",
    "- docker ps -a   #shows nothing\n",
    "<br>\n",
    "- docker run .....\n",
    "___"
   ]
  },
  {
   "cell_type": "markdown",
   "metadata": {},
   "source": [
    "- it is difficult to run,manage multicontainers seperatly(by cmd).\n",
    "- we use docker compose for this"
   ]
  },
  {
   "cell_type": "markdown",
   "metadata": {},
   "source": [
    "### docker compose\n",
    "- install docker compose\n",
    "- sudo apt-get update\n",
    "- sudo apt-get install docker-compose-plugin\n",
    "- docker compose version\n",
    "- <br>\n",
    "- feed all previously done commands(for runnig 2 containers ) to a yaml file\n",
    "- "
   ]
  },
  {
   "cell_type": "markdown",
   "metadata": {},
   "source": [
    "![compose](compose.png)"
   ]
  },
  {
   "cell_type": "markdown",
   "metadata": {},
   "source": [
    "___\n",
    "- docker-compose up -d    \n",
    "<br> if at same location use above , if at a different location use  -f ,,,,\n",
    "- docker-compose down\n"
   ]
  },
  {
   "cell_type": "markdown",
   "metadata": {},
   "source": [
    "___\n",
    "- data is inserted with a crud app after running a container.if we stop and restart the container ,data doesnt persist.\n",
    "#### docker vloumes"
   ]
  },
  {
   "cell_type": "markdown",
   "metadata": {},
   "source": [
    "![layers](layers.png)\n",
    "![layers](layer1.png)\n",
    "![layers](layer2.png)"
   ]
  },
  {
   "cell_type": "markdown",
   "metadata": {},
   "source": [
    "- docker rm \\<container name/id \\>  #remove\n",
    "- virtual file system is also lost\n",
    "- if we stop manually and start data wont be lost,because the container is there ,id will be the same when they start\n",
    "- data lost when we remove containers\n",
    "- \n",
    "\n"
   ]
  },
  {
   "cell_type": "markdown",
   "metadata": {},
   "source": [
    "##### docker volume\n",
    "\n",
    "![pfs](pfs.png)"
   ]
  },
  {
   "cell_type": "markdown",
   "metadata": {},
   "source": [
    "- Docker volumes 3 types\n",
    "  1.  Host volumes\n",
    "   - docker run -v /home/techtvm/data : /var/lib/mysql/data\n",
    "   -  physical file system : virtual file system\n",
    "   - we can set pfs path\n",
    "  2. Anonymous volumes\n",
    "   - docker run -v /var/lib/mysql/data\n",
    "   - not specifying pfs path \n",
    "   - docker randomly create pfs path.\n",
    "  3. named volumes\n",
    "   - improved form of anonymous volumes\n",
    "   - docker run -v name:/var/lib/mysql/data\n",
    "   - this name can be used for later refernce\n",
    "   - most used\n",
    "   \n",
    "\n",
    "\n",
    "\n"
   ]
  },
  {
   "cell_type": "markdown",
   "metadata": {},
   "source": [
    "![volume in composer](vol_com.png)"
   ]
  },
  {
   "cell_type": "markdown",
   "metadata": {},
   "source": [
    "- docker volume ls   <br>list available volumes"
   ]
  },
  {
   "cell_type": "markdown",
   "metadata": {},
   "source": [
    "![](sc.png)"
   ]
  },
  {
   "cell_type": "markdown",
   "metadata": {},
   "source": [
    "- docker volume inspect \\<name\\>"
   ]
  },
  {
   "cell_type": "code",
   "execution_count": null,
   "metadata": {
    "vscode": {
     "languageId": "plaintext"
    }
   },
   "outputs": [],
   "source": []
  },
  {
   "cell_type": "markdown",
   "metadata": {},
   "source": [
    "![](1.png)\n"
   ]
  },
  {
   "cell_type": "markdown",
   "metadata": {},
   "source": [
    "- docker push username/custom-image:tagname\n",
    "- nano Docker\n",
    "- docker build -t my-image .\n",
    "- docker images\n",
    "<br>\n",
    "- docker login\n",
    "- username:\n",
    "- password: \n",
    "- your password will be  stored  unencrypted in root/.docker/config.json\n",
    "- rm config.json -------- ( to remove)\n",
    "- <i>docker tag my-image:latest01 username/ name_of_private_repository:tag </i>\n",
    "- if not created a private repo then a public repo of same name will be created\n",
    "- my-image:is the source image with tag\n",
    "- name_of_private_repository:tag  this is target image tag\n",
    "- docker push username/name_of_repositiry:tag\n",
    "\n"
   ]
  },
  {
   "cell_type": "markdown",
   "metadata": {},
   "source": [
    "#### pulling private repositories\n",
    "- docker rmi my-image:latest\n",
    "- docker rmi username/name_of_repositor:tag\n",
    "- rm config.json\n",
    "- docker pull username/name_of_repository\n",
    "- error pull access denied .require docker login\n",
    "- docker login  \n",
    "- username:\n",
    "- password:\n",
    "- docker pull username/name_of_repository:tag\n",
    "-  "
   ]
  },
  {
   "cell_type": "markdown",
   "metadata": {},
   "source": [
    "#### commands\n",
    "\n",
    "- docker-compose down \n",
    "- docker ps\n",
    "- docker ps -a    \n",
    "- docker volume ls\n",
    "- docker rmi usermname/repo:tag\n",
    "- docker ps\n",
    "- docker ps -a \n",
    "- <i>to remove unused volumes </i>\n",
    "    - docker volume prune\n",
    "    - to remove specific\n",
    "     - docker volume rm name\n",
    "- docker network ls\n",
    "- docker network prune\n",
    "- \n",
    "\n",
    "\n",
    " "
   ]
  }
 ],
 "metadata": {
  "language_info": {
   "name": "python"
  }
 },
 "nbformat": 4,
 "nbformat_minor": 2
}
